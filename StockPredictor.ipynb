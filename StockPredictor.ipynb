{
  "nbformat": 4,
  "nbformat_minor": 0,
  "metadata": {
    "colab": {
      "name": "StockPredictor.ipynb",
      "provenance": [],
      "authorship_tag": "ABX9TyMRtM/OkJWM3kTGGEJ7eEKZ",
      "include_colab_link": true
    },
    "kernelspec": {
      "name": "python3",
      "display_name": "Python 3"
    },
    "language_info": {
      "name": "python"
    }
  },
  "cells": [
    {
      "cell_type": "markdown",
      "metadata": {
        "id": "view-in-github",
        "colab_type": "text"
      },
      "source": [
        "<a href=\"https://colab.research.google.com/github/KaptainK1/StockPredictor/blob/main/StockPredictor.ipynb\" target=\"_parent\"><img src=\"https://colab.research.google.com/assets/colab-badge.svg\" alt=\"Open In Colab\"/></a>"
      ]
    },
    {
      "cell_type": "code",
      "metadata": {
        "id": "my_4pqjUxTmm"
      },
      "source": [
        "from enum import Enum\n",
        "from __future__ import print_function \n",
        "import tensorflow as tf\n",
        "from tensorflow.keras import datasets, layers, models\n",
        "import matplotlib.pyplot as plt \n",
        "import numpy as np\n",
        "import json\n",
        "import datetime\n",
        "import requests"
      ],
      "execution_count": 18,
      "outputs": []
    },
    {
      "cell_type": "markdown",
      "metadata": {
        "id": "cfmPG1pxxLM4"
      },
      "source": [
        "This section is for getting our data from the Polygon.io REST API."
      ]
    },
    {
      "cell_type": "code",
      "metadata": {
        "colab": {
          "base_uri": "https://localhost:8080/"
        },
        "id": "pfFHjM9xsLRe",
        "outputId": "5c87ffab-d177-48cc-9b34-8e5bf1acf640"
      },
      "source": [
        "# polygon.io API Key\n",
        "# Or_EUkWN5hs5BhApI04TMqRssJlV4fQo\n",
        "# https://api.polygon.io/v2/aggs/ticker/AAPL/range/1/day/2020-06-01/2020-06-17?apiKey=Or_EUkWN5hs5BhApI04TMqRssJlV4fQo\n",
        "\n",
        "key = \"Or_EUkWN5hs5BhApI04TMqRssJlV4fQo\"\n",
        "\n",
        "# https://polygon.io/docs/get_v2_aggs_ticker__stocksTicker__range__multiplier___timespan___from___to__anchor\n",
        "# ticker we want to check\n",
        "stock_ticker = \"GME\"\n",
        "\n",
        "# for user input, uncomment these lines\n",
        "# stock_ticker = input(\"Enter ticker: \")\n",
        "# print(f\"ticker entered:{stock_ticker}\")\n",
        "\n",
        "# multiplier for the time span, so if the multiplier is 5, and timespan is minute, then we are getting 5 minute bars\n",
        "multiplier = \"1\"\n",
        "\n",
        "# for user input, uncomment these lines\n",
        "# multiplier = input(\"Enter multiplier: \")\n",
        "# print(f\"multiplier:{multiplier}\")\n",
        "\n",
        "# the type of candles we want, ie. minute, hour, daily, etc\n",
        "# minute, hour, day, week, month, quarter, year\n",
        "timespan = \"minute\"\n",
        "\n",
        "# for user input, uncomment these lines\n",
        "# timespan = input(\"Enter timespan as minute, hour, day, week, month, quarter, year: \")\n",
        "# print(f\"timespan:{timespan}\")\n",
        "\n",
        "#get the beginning date timetime frame\n",
        "begin_timeframe = datetime.datetime(2021,7,22)\n",
        "print(begin_timeframe)\n",
        "\n",
        "# for user input, uncomment these lines\n",
        "# begin_timeframe = input(\"Enter beginning timeframe as YYYY-MM-DD: \")\n",
        "# print(f\"begin_timeframe:{begin_timeframe}\")\n",
        "\n",
        "\n",
        "# convert the end datetime frame into the format needed for the api which is\n",
        "# YYYY-MM-DD\n",
        "begin_timeframe = begin_timeframe.strftime(\"%Y-%m-%d\")\n",
        "print(begin_timeframe)\n",
        "\n",
        "#get the ending date timetime frame\n",
        "#end_timeframe = datetime.datetime(2021,11,10)\n",
        "end_timeframe = datetime.datetime.now()\n",
        "print(end_timeframe)\n",
        "\n",
        "# for user input, uncomment these lines\n",
        "# end_timeframe = input(\"Enter ending timeframe as YYYY-MM-DD: \")\n",
        "# print(f\"end_timeframe:{end_timeframe}\")\n",
        "\n",
        "# convert the end datetime frame into the format needed for the api which is\n",
        "# YYYY-MM-DD\n",
        "end_timeframe = end_timeframe.strftime(\"%Y-%m-%d\")\n",
        "print(end_timeframe)\n",
        "\n",
        "#adjust for splits\n",
        "adjusted = True\n",
        "\n",
        "#number of rows we want, 50000 is the max, 5000 is default\n",
        "limit = 50000\n",
        "\n",
        "#how we want to sort the data, \n",
        "sort = \"desc\"\n",
        "\n",
        "# now build our query\n",
        "query = f\"https://api.polygon.io/v2/aggs/ticker/{stock_ticker}/range/{multiplier}/{timespan}/{begin_timeframe}/{end_timeframe}?adjusted={adjusted}&sort={sort}&limit={limit}&apiKey={key}\"\n",
        "\n",
        "#using a request, query the api to get our results\n",
        "stock_data = requests.get(query)\n",
        "\n",
        "#loop through the results array from the response of the api\n",
        "response_table = stock_data.json()[\"results\"]\n",
        "\n",
        "# create a new array of arrays to hold our data\n",
        "data_table = [[\"Close\", \"High\", \"Low\", \"Volume\", \"Volume-weighted-average-price\"]]\n",
        "\n",
        "# loop through the response table to get each row of data from the results array\n",
        "for x in response_table:\n",
        "  #test = np.array([x[\"c\"], x[\"h\"], x[\"l\"], x[\"v\"], x[\"vw\"]])\n",
        "  test = ([x[\"c\"], x[\"h\"], x[\"l\"], x[\"v\"], x[\"vw\"]])\n",
        "  data_table.append(test)\n",
        "  #print(test)\n",
        "\n",
        "# loop through the response data and print row to our data table\n",
        "# for y in range (0, len(response_table)):\n",
        "#   print(data_table[y])\n",
        "\n",
        "data_table_as_ndarray = np.array(data_table)\n",
        "print(data_table_as_ndarray)\n",
        "print(data_table_as_ndarray.shape)"
      ],
      "execution_count": 53,
      "outputs": [
        {
          "output_type": "stream",
          "name": "stdout",
          "text": [
            "2021-07-22 00:00:00\n",
            "2021-07-22\n",
            "2021-11-10 19:11:47.656653\n",
            "2021-11-10\n",
            "[['Close' 'High' 'Low' 'Volume' 'Volume-weighted-average-price']\n",
            " ['206.99' '206.99' '206.99' '793' '206.9916']\n",
            " ['206.89' '206.89' '206.89' '157' '206.8864']\n",
            " ...\n",
            " ['183' '183' '183' '122' '183.0076']\n",
            " ['182.37' '182.37' '182.37' '210' '182.5946']\n",
            " ['183' '183' '183' '224' '183.0024']]\n",
            "(34376, 5)\n"
          ]
        }
      ]
    }
  ]
}